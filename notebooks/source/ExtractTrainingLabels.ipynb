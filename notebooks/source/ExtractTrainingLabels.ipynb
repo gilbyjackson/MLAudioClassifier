{
 "cells": [
  {
   "cell_type": "markdown",
   "id": "7cebacd9",
   "metadata": {},
   "source": [
    "# Extract Training Labels\n",
    "\n",
    "This notebook recovers the label ordering used during model training.\n",
    "\n",
    "**Two methods:**\n",
    "1. **From MFCC JSON files** (if you have `mfcc_train_data.json`)\n",
    "2. **From directory structure** (scans `TrainingData/AudioSamples/` folders)\n",
    "\n",
    "⚠️ **Important:** The directory method assumes alphabetical ordering was used during training!"
   ]
  },
  {
   "cell_type": "code",
   "execution_count": null,
   "id": "6fec7e3a",
   "metadata": {},
   "outputs": [],
   "source": [
    "import json\n",
    "from pathlib import Path\n",
    "from typing import List, Optional"
   ]
  },
  {
   "cell_type": "markdown",
   "id": "82ed8cee",
   "metadata": {},
   "source": [
    "## Configuration"
   ]
  },
  {
   "cell_type": "code",
   "execution_count": null,
   "id": "3c534970",
   "metadata": {},
   "outputs": [],
   "source": [
    "# Paths\n",
    "MFCC_TRAIN_PATH = Path('../data/mfcc_train_data.json')\n",
    "TRAINING_DATA_DIR = Path('../TrainingData/AudioSamples')\n",
    "OUTPUT_PATH = Path('../models/label_mapping_from_dirs.json')"
   ]
  },
  {
   "cell_type": "markdown",
   "id": "6d394f41",
   "metadata": {},
   "source": [
    "## Method 1: Extract from MFCC JSON"
   ]
  },
  {
   "cell_type": "code",
   "execution_count": null,
   "id": "6ac97733",
   "metadata": {},
   "outputs": [],
   "source": [
    "def extract_from_mfcc(path: Path) -> Optional[List[str]]:\n",
    "    \"\"\"Extract labels from MFCC JSON file.\"\"\"\n",
    "    if not path.exists():\n",
    "        return None\n",
    "    \n",
    "    with open(path, 'r') as f:\n",
    "        data = json.load(f)\n",
    "    \n",
    "    # Get unique labels in order they appear\n",
    "    labels = []\n",
    "    seen = set()\n",
    "    for item in data['data']:\n",
    "        label = item['label']\n",
    "        if label not in seen:\n",
    "            labels.append(label)\n",
    "            seen.add(label)\n",
    "    \n",
    "    return labels\n",
    "\n",
    "# Try to extract from MFCC file\n",
    "if MFCC_TRAIN_PATH.exists():\n",
    "    print(f\"Found MFCC training data: {MFCC_TRAIN_PATH}\")\n",
    "    labels_from_mfcc = extract_from_mfcc(MFCC_TRAIN_PATH)\n",
    "    if labels_from_mfcc:\n",
    "        print(f\"✓ Extracted {len(labels_from_mfcc)} labels from MFCC file\")\n",
    "        print(f\"\\nLabels in order:\")\n",
    "        for i, label in enumerate(labels_from_mfcc):\n",
    "            print(f\"  {i:2d}: {label}\")\n",
    "else:\n",
    "    print(f\"MFCC file not found: {MFCC_TRAIN_PATH}\")\n",
    "    print(\"Will try directory method instead...\")\n",
    "    labels_from_mfcc = None"
   ]
  },
  {
   "cell_type": "markdown",
   "id": "1246bfa6",
   "metadata": {},
   "source": [
    "## Method 2: Extract from Directory Structure"
   ]
  },
  {
   "cell_type": "code",
   "execution_count": null,
   "id": "8998b981",
   "metadata": {},
   "outputs": [],
   "source": [
    "def extract_from_directories(base_dir: Path) -> Optional[List[str]]:\n",
    "    \"\"\"Extract labels from directory structure (alphabetically sorted).\"\"\"\n",
    "    if not base_dir.exists():\n",
    "        return None\n",
    "    \n",
    "    # Get all subdirectories and sort alphabetically\n",
    "    subdirs = [d.name for d in base_dir.iterdir() if d.is_dir()]\n",
    "    subdirs = sorted(subdirs)\n",
    "    \n",
    "    return subdirs\n",
    "\n",
    "# Try to extract from directories\n",
    "if TRAINING_DATA_DIR.exists():\n",
    "    print(f\"\\nScanning training directory: {TRAINING_DATA_DIR}\")\n",
    "    labels_from_dirs = extract_from_directories(TRAINING_DATA_DIR)\n",
    "    if labels_from_dirs:\n",
    "        print(f\"✓ Found {len(labels_from_dirs)} directories\")\n",
    "        print(f\"\\n⚠️  WARNING: This assumes alphabetical ordering was used during training!\")\n",
    "        print(f\"\\nLabels in alphabetical order:\")\n",
    "        for i, label in enumerate(labels_from_dirs):\n",
    "            print(f\"  {i:2d}: {label}\")\n",
    "else:\n",
    "    print(f\"\\nTraining directory not found: {TRAINING_DATA_DIR}\")\n",
    "    labels_from_dirs = None"
   ]
  },
  {
   "cell_type": "markdown",
   "id": "59248212",
   "metadata": {},
   "source": [
    "## Choose Method and Save"
   ]
  },
  {
   "cell_type": "code",
   "execution_count": null,
   "id": "788aae0c",
   "metadata": {},
   "outputs": [],
   "source": [
    "# Prefer MFCC method if available\n",
    "if labels_from_mfcc:\n",
    "    final_labels = labels_from_mfcc\n",
    "    method = \"MFCC file\"\n",
    "elif labels_from_dirs:\n",
    "    final_labels = labels_from_dirs\n",
    "    method = \"directory structure\"\n",
    "else:\n",
    "    print(\"\\n❌ Could not extract labels from any source!\")\n",
    "    final_labels = None\n",
    "    method = None\n",
    "\n",
    "if final_labels:\n",
    "    print(f\"\\n{'='*60}\")\n",
    "    print(f\"Extracted {len(final_labels)} labels from {method}\")\n",
    "    print(f\"{'='*60}\")\n",
    "    \n",
    "    # Ask user if they want to save\n",
    "    response = input(f\"\\nSave to {OUTPUT_PATH}? (y/n): \").strip().lower()\n",
    "    \n",
    "    if response == 'y':\n",
    "        # Save to JSON\n",
    "        with open(OUTPUT_PATH, 'w') as f:\n",
    "            json.dump(final_labels, f, indent=2)\n",
    "        \n",
    "        print(f\"\\n✓ Labels saved to: {OUTPUT_PATH}\")\n",
    "        print(f\"\\nNext steps:\")\n",
    "        print(f\"1. Verify the labels match your model's training order\")\n",
    "        print(f\"2. If needed, adjust the order in the JSON file\")\n",
    "        print(f\"3. Copy to ../models/label_mapping.json\")\n",
    "        print(f\"4. Run ValidateMapping notebook to verify\")\n",
    "    else:\n",
    "        print(\"\\nNot saved.\")"
   ]
  },
  {
   "cell_type": "markdown",
   "id": "e3cbc96b",
   "metadata": {},
   "source": [
    "## Notes\n",
    "\n",
    "**If using directory method:**\n",
    "- Assumes `sorted()` (alphabetical) was used during training\n",
    "- Compare output with your training notebook's label ordering\n",
    "- May need manual adjustment if different ordering was used\n",
    "\n",
    "**If using MFCC method:**\n",
    "- More reliable (preserves original ordering from training data)\n",
    "- Should match exactly with model training"
   ]
  }
 ],
 "metadata": {
  "language_info": {
   "name": "python"
  }
 },
 "nbformat": 4,
 "nbformat_minor": 5
}
