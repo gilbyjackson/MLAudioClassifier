{
 "cells": [
  {
   "cell_type": "markdown",
   "id": "baafd691",
   "metadata": {},
   "source": [
    "# Validate Label Mapping\n",
    "\n",
    "This notebook validates that the label mapping file matches the model's output dimension.\n",
    "\n",
    "**What it does:**\n",
    "- Loads the model and checks its output dimension\n",
    "- Loads the label mapping file\n",
    "- Verifies they match\n",
    "- Auto-creates a stub if mapping is missing"
   ]
  },
  {
   "cell_type": "code",
   "execution_count": null,
   "id": "aee97485",
   "metadata": {},
   "outputs": [],
   "source": [
    "import sys\n",
    "from pathlib import Path\n",
    "\n",
    "# Add parent directory to path\n",
    "sys.path.insert(0, str(Path.cwd().parent))\n",
    "\n",
    "from classifier.model import (\n",
    "    load_model,\n",
    "    load_label_mapping,\n",
    "    save_label_mapping_stub,\n",
    "    validate_label_mapping\n",
    ")"
   ]
  },
  {
   "cell_type": "markdown",
   "id": "7ff1c154",
   "metadata": {},
   "source": [
    "## Configuration"
   ]
  },
  {
   "cell_type": "code",
   "execution_count": null,
   "id": "843d81fc",
   "metadata": {},
   "outputs": [],
   "source": [
    "# Paths\n",
    "MODEL_PATH = Path('../models/model1.keras')\n",
    "LABEL_MAPPING_PATH = Path('../models/label_mapping.json')\n",
    "STUB_PATH = Path('../models/label_mapping_stub.json')"
   ]
  },
  {
   "cell_type": "markdown",
   "id": "1c2b71a4",
   "metadata": {},
   "source": [
    "## Load Model and Check Dimension"
   ]
  },
  {
   "cell_type": "code",
   "execution_count": null,
   "id": "15374fae",
   "metadata": {},
   "outputs": [],
   "source": [
    "print(f\"Loading model: {MODEL_PATH}\")\n",
    "model = load_model(MODEL_PATH)\n",
    "\n",
    "output_shape = model.output_shape\n",
    "num_classes = output_shape[-1]\n",
    "\n",
    "print(f\"✓ Model loaded successfully\")\n",
    "print(f\"  Output shape: {output_shape}\")\n",
    "print(f\"  Number of classes: {num_classes}\")"
   ]
  },
  {
   "cell_type": "markdown",
   "id": "319b4412",
   "metadata": {},
   "source": [
    "## Load Label Mapping"
   ]
  },
  {
   "cell_type": "code",
   "execution_count": null,
   "id": "aa857fbc",
   "metadata": {},
   "outputs": [],
   "source": [
    "if not LABEL_MAPPING_PATH.exists():\n",
    "    print(f\"⚠️  Label mapping not found: {LABEL_MAPPING_PATH}\")\n",
    "    print(f\"Creating stub file: {STUB_PATH}\")\n",
    "    save_label_mapping_stub(num_classes, STUB_PATH)\n",
    "    print(f\"\\n✓ Stub created with {num_classes} placeholder labels\")\n",
    "    print(f\"\\nPlease edit {STUB_PATH} with correct label names,\")\n",
    "    print(f\"then rename it to {LABEL_MAPPING_PATH.name}\")\n",
    "else:\n",
    "    labels = load_label_mapping(LABEL_MAPPING_PATH)\n",
    "    \n",
    "    try:\n",
    "        validate_label_mapping(labels, num_classes)\n",
    "        print(f\"✓ Label mapping valid ({len(labels)} classes)\")\n",
    "        print(f\"\\nLabel list (indices 0-{len(labels)-1}):\")\n",
    "        for i, label in enumerate(labels):\n",
    "            print(f\"  {i:2d}: {label}\")\n",
    "    except ValueError as e:\n",
    "        print(f\"❌ Validation failed: {e}\")"
   ]
  },
  {
   "cell_type": "markdown",
   "id": "bb2038f3",
   "metadata": {},
   "source": [
    "## Summary\n",
    "\n",
    "- If validation passed: Your label mapping is correct ✓\n",
    "- If stub created: Edit the stub file and rename it to `label_mapping.json`\n",
    "- If validation failed: Check the error message and fix your mapping file"
   ]
  }
 ],
 "metadata": {
  "language_info": {
   "name": "python"
  }
 },
 "nbformat": 4,
 "nbformat_minor": 5
}
