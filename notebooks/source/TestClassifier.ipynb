{
 "cells": [
  {
   "cell_type": "markdown",
   "id": "39e46d6a",
   "metadata": {},
   "source": [
    "# Test Classifier Package\n",
    "\n",
    "This notebook runs a quick test suite to verify the classifier package is working correctly.\n",
    "\n",
    "**Tests:**\n",
    "1. ✓ Import all modules\n",
    "2. ✓ Discover audio files\n",
    "3. ✓ Extract MFCC features\n",
    "4. ✓ Load model"
   ]
  },
  {
   "cell_type": "code",
   "execution_count": null,
   "id": "d6503970",
   "metadata": {},
   "outputs": [],
   "source": [
    "import sys\n",
    "from pathlib import Path\n",
    "\n",
    "# Add parent directory to path\n",
    "sys.path.insert(0, str(Path.cwd().parent))"
   ]
  },
  {
   "cell_type": "markdown",
   "id": "3ddb5f61",
   "metadata": {},
   "source": [
    "## Configuration"
   ]
  },
  {
   "cell_type": "code",
   "execution_count": null,
   "id": "beea2a0c",
   "metadata": {},
   "outputs": [],
   "source": [
    "# Test paths\n",
    "TEST_AUDIO_DIR = Path('../TestData')\n",
    "MODEL_PATH = Path('../models/model1.keras')\n",
    "\n",
    "# Test limits\n",
    "MAX_FILES = 10  # Limit file discovery for speed"
   ]
  },
  {
   "cell_type": "markdown",
   "id": "ae6e4a38",
   "metadata": {},
   "source": [
    "## Test 1: Import Modules"
   ]
  },
  {
   "cell_type": "code",
   "execution_count": null,
   "id": "6a4e1638",
   "metadata": {},
   "outputs": [],
   "source": [
    "try:\n",
    "    from classifier import io, features, model, infer, rebuild\n",
    "    print(\"✓ All modules imported successfully\")\n",
    "    test1_passed = True\n",
    "except Exception as e:\n",
    "    print(f\"❌ Import failed: {e}\")\n",
    "    test1_passed = False"
   ]
  },
  {
   "cell_type": "markdown",
   "id": "a19192ac",
   "metadata": {},
   "source": [
    "## Test 2: File Discovery"
   ]
  },
  {
   "cell_type": "code",
   "execution_count": null,
   "id": "e95a7eaa",
   "metadata": {},
   "outputs": [],
   "source": [
    "if test1_passed:\n",
    "    try:\n",
    "        files = io.discover_audio_files(TEST_AUDIO_DIR, recursive=True)\n",
    "        files = files[:MAX_FILES]  # Limit for testing\n",
    "        \n",
    "        print(f\"✓ Found {len(files)} files (limited to {MAX_FILES})\")\n",
    "        if files:\n",
    "            print(f\"  Sample: {files[0].name}\")\n",
    "        test2_passed = True\n",
    "    except Exception as e:\n",
    "        print(f\"❌ File discovery failed: {e}\")\n",
    "        test2_passed = False\n",
    "else:\n",
    "    print(\"⏭️  Skipped (import test failed)\")\n",
    "    test2_passed = False"
   ]
  },
  {
   "cell_type": "markdown",
   "id": "aa400952",
   "metadata": {},
   "source": [
    "## Test 3: Feature Extraction"
   ]
  },
  {
   "cell_type": "code",
   "execution_count": null,
   "id": "760d5776",
   "metadata": {},
   "outputs": [],
   "source": [
    "if test1_passed and test2_passed and files:\n",
    "    try:\n",
    "        extractor = features.AudioFeatureExtractor()\n",
    "        test_file = files[0]\n",
    "        \n",
    "        mfcc_data, metadata = extractor.extract_mfcc(test_file)\n",
    "        \n",
    "        print(f\"✓ MFCC shape: {mfcc_data.shape}\")\n",
    "        print(f\"  Duration: {metadata['duration']}s\")\n",
    "        test3_passed = True\n",
    "    except Exception as e:\n",
    "        print(f\"❌ Feature extraction failed: {e}\")\n",
    "        test3_passed = False\n",
    "else:\n",
    "    print(\"⏭️  Skipped (previous tests failed)\")\n",
    "    test3_passed = False"
   ]
  },
  {
   "cell_type": "markdown",
   "id": "ef7eac0e",
   "metadata": {},
   "source": [
    "## Test 4: Model Loading"
   ]
  },
  {
   "cell_type": "code",
   "execution_count": null,
   "id": "5901715d",
   "metadata": {},
   "outputs": [],
   "source": [
    "if test1_passed:\n",
    "    try:\n",
    "        loaded_model = model.load_model(MODEL_PATH)\n",
    "        output_shape = loaded_model.output_shape\n",
    "        \n",
    "        print(f\"✓ Model loaded: {output_shape}\")\n",
    "        test4_passed = True\n",
    "    except Exception as e:\n",
    "        print(f\"❌ Model loading failed: {e}\")\n",
    "        test4_passed = False\n",
    "else:\n",
    "    print(\"⏭️  Skipped (import test failed)\")\n",
    "    test4_passed = False"
   ]
  },
  {
   "cell_type": "markdown",
   "id": "3418a513",
   "metadata": {},
   "source": [
    "## Test Summary"
   ]
  },
  {
   "cell_type": "code",
   "execution_count": null,
   "id": "829525fd",
   "metadata": {},
   "outputs": [],
   "source": [
    "tests = [\n",
    "    (\"Module imports\", test1_passed),\n",
    "    (\"File discovery\", test2_passed),\n",
    "    (\"Feature extraction\", test3_passed),\n",
    "    (\"Model loading\", test4_passed)\n",
    "]\n",
    "\n",
    "passed = sum(1 for _, result in tests if result)\n",
    "total = len(tests)\n",
    "\n",
    "print(\"\\n\" + \"=\"*50)\n",
    "print(f\"Test Results: {passed}/{total} tests passed\")\n",
    "print(\"=\"*50)\n",
    "\n",
    "for test_name, result in tests:\n",
    "    status = \"✓ PASS\" if result else \"❌ FAIL\"\n",
    "    print(f\"{status}: {test_name}\")\n",
    "\n",
    "if passed == total:\n",
    "    print(\"\\n🎉 All tests passed! The classifier package is ready to use.\")\n",
    "else:\n",
    "    print(f\"\\n⚠️  {total - passed} test(s) failed. Check the errors above.\")"
   ]
  },
  {
   "cell_type": "markdown",
   "id": "e8b88542",
   "metadata": {},
   "source": [
    "## Next Steps\n",
    "\n",
    "If all tests passed:\n",
    "1. ✓ Your classifier package is working\n",
    "2. Run the full inference: `python -m classifier.cli infer --config config.yml`\n",
    "3. Check the ArchiveClassifier notebook for interactive usage\n",
    "\n",
    "If tests failed:\n",
    "- Check that you're in the virtual environment: `source .venv/bin/activate`\n",
    "- Verify all dependencies are installed: `pip install -r requirements.txt`\n",
    "- Check file paths in the configuration section above"
   ]
  }
 ],
 "metadata": {
  "language_info": {
   "name": "python"
  }
 },
 "nbformat": 4,
 "nbformat_minor": 5
}
