{
 "cells": [
  {
   "cell_type": "markdown",
   "id": "bba5e9ff",
   "metadata": {},
   "source": [
    "<h1> Training Notebook for Model 1 </h1>"
   ]
  },
  {
   "cell_type": "code",
   "execution_count": 1,
   "id": "998ccdc3-91f4-443e-be3e-5aa8f7c3540a",
   "metadata": {},
   "outputs": [],
   "source": [
    "# Loading libraries\n",
    "import numpy as np\n",
    "import json\n",
    "import pandas as pd\n",
    "from ast import literal_eval\n",
    "import librosa\n",
    "import keras\n",
    "import os\n",
    "\n",
    "import matplotlib.pyplot as plt\n",
    "from sklearn.model_selection import train_test_split"
   ]
  },
  {
   "cell_type": "code",
   "execution_count": 2,
   "id": "d5229d4f-5033-4f7c-bd55-3f76ab727f70",
   "metadata": {},
   "outputs": [],
   "source": [
    "# please set this variable to where you cloned the git repo \"MLAudioClassifier\"\n",
    "\n",
    "filepath = \"/Users/Gilby/Projects/MLAudioClassifier\"\n",
    "os.chdir(filepath)"
   ]
  },
  {
   "cell_type": "markdown",
   "id": "14d6bc28",
   "metadata": {},
   "source": [
    "<h1> Loading the training set of MFCC features from .json file </h1>"
   ]
  },
  {
   "cell_type": "code",
   "execution_count": 3,
   "id": "cb7909c4-37c4-4604-a915-f3acbc2f858e",
   "metadata": {},
   "outputs": [
    {
     "name": "stdout",
     "output_type": "stream",
     "text": [
      "✅ Using training MFCC file: data/mfcc_train_data.json\n",
      "Loaded feature matrix shape: (11465, 40, 98)\n",
      "Loaded label vector length: 11465\n"
     ]
    }
   ],
   "source": [
    "# Attempt to locate the training MFCC JSON file robustly\n",
    "# Preferred / expected location based on project docs: data/mfcc_train_data.json\n",
    "# Fallbacks: project root (mfcc_train_data.json), parent dir, or explicit override\n",
    "\n",
    "from pathlib import Path\n",
    "\n",
    "POSSIBLE_PATHS = [\n",
    "    Path('data/mfcc_train_data.json'),          # standard location\n",
    "    Path('../data/mfcc_train_data.json'),       # if cwd is notebooks/\n",
    "    Path('mfcc_train_data.json'),               # root fallback\n",
    "    Path('../mfcc_train_data.json')             # legacy placement\n",
    "]\n",
    "\n",
    "found_path = None\n",
    "for p in POSSIBLE_PATHS:\n",
    "    if p.exists():\n",
    "        found_path = p\n",
    "        break\n",
    "\n",
    "if found_path is None:\n",
    "    print('❌ Could not find mfcc_train_data.json in expected locations:')\n",
    "    for p in POSSIBLE_PATHS:\n",
    "        print(f' - {p}')\n",
    "    print('\\n➡️  Please run the MFCC_Feature_Extractor notebook first to generate the file.')\n",
    "    raise FileNotFoundError('mfcc_train_data.json not found')\n",
    "else:\n",
    "    print(f'✅ Using training MFCC file: {found_path}')\n",
    "\n",
    "with open(found_path, 'r') as fp:\n",
    "    data = json.load(fp)\n",
    "\n",
    "# Expect keys: mfcc (list/array), label (list/array)\n",
    "if not all(k in data for k in ('mfcc', 'label')):\n",
    "    raise KeyError('Expected keys \"mfcc\" and \"label\" not found in JSON file')\n",
    "\n",
    "X = np.array(data['mfcc'])\n",
    "y = np.array(data['label'])\n",
    "print('Loaded feature matrix shape:', X.shape)\n",
    "print('Loaded label vector length:', len(y))"
   ]
  },
  {
   "cell_type": "code",
   "execution_count": 4,
   "id": "8165cc1d",
   "metadata": {},
   "outputs": [
    {
     "name": "stdout",
     "output_type": "stream",
     "text": [
      "Raw label values (37 classes detected): [ 0  1  2  3  4  5  6  7  8  9 10 11 12 13 14 15 16 17 18 19] ...\n",
      "Max label value: 36\n",
      "✅ Labels already contiguous 0..N-1. No remap needed.\n",
      "Inferred number of classes: 37\n"
     ]
    }
   ],
   "source": [
    "# Diagnose and normalize label indices so they are contiguous starting at 0\n",
    "import numpy as np\n",
    "unique_labels = np.unique(y)\n",
    "print(f\"Raw label values ({len(unique_labels)} classes detected): {unique_labels[:20]}{' ...' if len(unique_labels)>20 else ''}\")\n",
    "print(f\"Max label value: {y.max()}\")\n",
    "\n",
    "# If labels are not 0..N-1 contiguous, remap them\n",
    "needs_remap = (y.max() != len(unique_labels)-1) or (unique_labels != np.arange(len(unique_labels))).any()\n",
    "if needs_remap:\n",
    "    print(\"⚠️  Non-contiguous or gapped label indices detected. Remapping to 0..N-1.\")\n",
    "    label_mapping = {old:i for i, old in enumerate(sorted(unique_labels))}\n",
    "    y = np.array([label_mapping[v] for v in y])\n",
    "    unique_labels = np.unique(y)\n",
    "    print(\"✅ Remap complete. New label set:\", unique_labels)\n",
    "    print(\"Mapping (old -> new):\", label_mapping)\n",
    "else:\n",
    "    print(\"✅ Labels already contiguous 0..N-1. No remap needed.\")\n",
    "\n",
    "num_classes = len(unique_labels)\n",
    "print(\"Inferred number of classes:\", num_classes)"
   ]
  },
  {
   "cell_type": "code",
   "execution_count": 5,
   "id": "e941e073-abb4-4113-a4c2-a6396a778efa",
   "metadata": {},
   "outputs": [],
   "source": [
    "X_train, X_val, y_train, y_val = train_test_split(X, y, test_size=0.2, stratify=y)"
   ]
  },
  {
   "cell_type": "code",
   "execution_count": 6,
   "id": "9db09973-274d-48dc-8c1f-81aa6b50a7c9",
   "metadata": {},
   "outputs": [
    {
     "name": "stdout",
     "output_type": "stream",
     "text": [
      "40 98\n"
     ]
    }
   ],
   "source": [
    "# this should be 40 x 98\n",
    "print(X.shape[1], X.shape[2])"
   ]
  },
  {
   "cell_type": "markdown",
   "id": "181344bf",
   "metadata": {},
   "source": [
    "<h1> Building the CNN </h1>"
   ]
  },
  {
   "cell_type": "code",
   "execution_count": 7,
   "id": "2df89000-d084-4efb-8431-58d00d4dc28e",
   "metadata": {},
   "outputs": [
    {
     "name": "stderr",
     "output_type": "stream",
     "text": [
      "/Users/Gilby/Projects/MLAudioClassifier/.venv/lib/python3.13/site-packages/keras/src/layers/reshaping/flatten.py:37: UserWarning: Do not pass an `input_shape`/`input_dim` argument to a layer. When using Sequential models, prefer using an `Input(shape)` object as the first layer in the model instead.\n",
      "  super().__init__(**kwargs)\n"
     ]
    }
   ],
   "source": [
    "model = keras.Sequential([\n",
    "\n",
    "        # input layer\n",
    "        keras.layers.Flatten(input_shape=(X.shape[1], X.shape[2])),\n",
    "\n",
    "        # 1st dense layer\n",
    "        keras.layers.Dense(512, activation='relu'),\n",
    "        keras.layers.Dropout(0.3),\n",
    "\n",
    "        # 2nd dense layer\n",
    "        keras.layers.Dense(256, activation='relu'),\n",
    "        keras.layers.Dropout(0.3),\n",
    "\n",
    "        # 3rd dense layer\n",
    "        keras.layers.Dense(128, activation='relu'),\n",
    "        keras.layers.Dropout(0.3),\n",
    "\n",
    "        # output layer (num_classes inferred dynamically)\n",
    "        keras.layers.Dense(num_classes, activation='softmax')\n",
    "    ])"
   ]
  },
  {
   "cell_type": "code",
   "execution_count": 8,
   "id": "60254885-7166-49df-911f-10954c3d42d9",
   "metadata": {},
   "outputs": [
    {
     "name": "stdout",
     "output_type": "stream",
     "text": [
      "Model compiled with:\n",
      " - Learning rate: 0.0005000000237487257\n",
      " - Output classes: 37\n"
     ]
    }
   ],
   "source": [
    "optimiser = keras.optimizers.Adam(learning_rate=0.0005)\n",
    "\n",
    "model.compile(optimizer=optimiser,\n",
    "                  loss='sparse_categorical_crossentropy',\n",
    "                  metrics=['accuracy'])\n",
    "\n",
    "print(\"Model compiled with:\")\n",
    "print(f\" - Learning rate: {optimiser.learning_rate.numpy()}\")\n",
    "print(f\" - Output classes: {num_classes}\")"
   ]
  },
  {
   "cell_type": "code",
   "execution_count": 9,
   "id": "d24998c7-7fc8-4a94-875a-0ce444b2bd02",
   "metadata": {},
   "outputs": [
    {
     "data": {
      "text/html": [
       "<pre style=\"white-space:pre;overflow-x:auto;line-height:normal;font-family:Menlo,'DejaVu Sans Mono',consolas,'Courier New',monospace\"><span style=\"font-weight: bold\">Model: \"sequential\"</span>\n",
       "</pre>\n"
      ],
      "text/plain": [
       "\u001b[1mModel: \"sequential\"\u001b[0m\n"
      ]
     },
     "metadata": {},
     "output_type": "display_data"
    },
    {
     "data": {
      "text/html": [
       "<pre style=\"white-space:pre;overflow-x:auto;line-height:normal;font-family:Menlo,'DejaVu Sans Mono',consolas,'Courier New',monospace\">┏━━━━━━━━━━━━━━━━━━━━━━━━━━━━━━━━━┳━━━━━━━━━━━━━━━━━━━━━━━━┳━━━━━━━━━━━━━━━┓\n",
       "┃<span style=\"font-weight: bold\"> Layer (type)                    </span>┃<span style=\"font-weight: bold\"> Output Shape           </span>┃<span style=\"font-weight: bold\">       Param # </span>┃\n",
       "┡━━━━━━━━━━━━━━━━━━━━━━━━━━━━━━━━━╇━━━━━━━━━━━━━━━━━━━━━━━━╇━━━━━━━━━━━━━━━┩\n",
       "│ flatten (<span style=\"color: #0087ff; text-decoration-color: #0087ff\">Flatten</span>)               │ (<span style=\"color: #00d7ff; text-decoration-color: #00d7ff\">None</span>, <span style=\"color: #00af00; text-decoration-color: #00af00\">3920</span>)           │             <span style=\"color: #00af00; text-decoration-color: #00af00\">0</span> │\n",
       "├─────────────────────────────────┼────────────────────────┼───────────────┤\n",
       "│ dense (<span style=\"color: #0087ff; text-decoration-color: #0087ff\">Dense</span>)                   │ (<span style=\"color: #00d7ff; text-decoration-color: #00d7ff\">None</span>, <span style=\"color: #00af00; text-decoration-color: #00af00\">512</span>)            │     <span style=\"color: #00af00; text-decoration-color: #00af00\">2,007,552</span> │\n",
       "├─────────────────────────────────┼────────────────────────┼───────────────┤\n",
       "│ dropout (<span style=\"color: #0087ff; text-decoration-color: #0087ff\">Dropout</span>)               │ (<span style=\"color: #00d7ff; text-decoration-color: #00d7ff\">None</span>, <span style=\"color: #00af00; text-decoration-color: #00af00\">512</span>)            │             <span style=\"color: #00af00; text-decoration-color: #00af00\">0</span> │\n",
       "├─────────────────────────────────┼────────────────────────┼───────────────┤\n",
       "│ dense_1 (<span style=\"color: #0087ff; text-decoration-color: #0087ff\">Dense</span>)                 │ (<span style=\"color: #00d7ff; text-decoration-color: #00d7ff\">None</span>, <span style=\"color: #00af00; text-decoration-color: #00af00\">256</span>)            │       <span style=\"color: #00af00; text-decoration-color: #00af00\">131,328</span> │\n",
       "├─────────────────────────────────┼────────────────────────┼───────────────┤\n",
       "│ dropout_1 (<span style=\"color: #0087ff; text-decoration-color: #0087ff\">Dropout</span>)             │ (<span style=\"color: #00d7ff; text-decoration-color: #00d7ff\">None</span>, <span style=\"color: #00af00; text-decoration-color: #00af00\">256</span>)            │             <span style=\"color: #00af00; text-decoration-color: #00af00\">0</span> │\n",
       "├─────────────────────────────────┼────────────────────────┼───────────────┤\n",
       "│ dense_2 (<span style=\"color: #0087ff; text-decoration-color: #0087ff\">Dense</span>)                 │ (<span style=\"color: #00d7ff; text-decoration-color: #00d7ff\">None</span>, <span style=\"color: #00af00; text-decoration-color: #00af00\">128</span>)            │        <span style=\"color: #00af00; text-decoration-color: #00af00\">32,896</span> │\n",
       "├─────────────────────────────────┼────────────────────────┼───────────────┤\n",
       "│ dropout_2 (<span style=\"color: #0087ff; text-decoration-color: #0087ff\">Dropout</span>)             │ (<span style=\"color: #00d7ff; text-decoration-color: #00d7ff\">None</span>, <span style=\"color: #00af00; text-decoration-color: #00af00\">128</span>)            │             <span style=\"color: #00af00; text-decoration-color: #00af00\">0</span> │\n",
       "├─────────────────────────────────┼────────────────────────┼───────────────┤\n",
       "│ dense_3 (<span style=\"color: #0087ff; text-decoration-color: #0087ff\">Dense</span>)                 │ (<span style=\"color: #00d7ff; text-decoration-color: #00d7ff\">None</span>, <span style=\"color: #00af00; text-decoration-color: #00af00\">37</span>)             │         <span style=\"color: #00af00; text-decoration-color: #00af00\">4,773</span> │\n",
       "└─────────────────────────────────┴────────────────────────┴───────────────┘\n",
       "</pre>\n"
      ],
      "text/plain": [
       "┏━━━━━━━━━━━━━━━━━━━━━━━━━━━━━━━━━┳━━━━━━━━━━━━━━━━━━━━━━━━┳━━━━━━━━━━━━━━━┓\n",
       "┃\u001b[1m \u001b[0m\u001b[1mLayer (type)                   \u001b[0m\u001b[1m \u001b[0m┃\u001b[1m \u001b[0m\u001b[1mOutput Shape          \u001b[0m\u001b[1m \u001b[0m┃\u001b[1m \u001b[0m\u001b[1m      Param #\u001b[0m\u001b[1m \u001b[0m┃\n",
       "┡━━━━━━━━━━━━━━━━━━━━━━━━━━━━━━━━━╇━━━━━━━━━━━━━━━━━━━━━━━━╇━━━━━━━━━━━━━━━┩\n",
       "│ flatten (\u001b[38;5;33mFlatten\u001b[0m)               │ (\u001b[38;5;45mNone\u001b[0m, \u001b[38;5;34m3920\u001b[0m)           │             \u001b[38;5;34m0\u001b[0m │\n",
       "├─────────────────────────────────┼────────────────────────┼───────────────┤\n",
       "│ dense (\u001b[38;5;33mDense\u001b[0m)                   │ (\u001b[38;5;45mNone\u001b[0m, \u001b[38;5;34m512\u001b[0m)            │     \u001b[38;5;34m2,007,552\u001b[0m │\n",
       "├─────────────────────────────────┼────────────────────────┼───────────────┤\n",
       "│ dropout (\u001b[38;5;33mDropout\u001b[0m)               │ (\u001b[38;5;45mNone\u001b[0m, \u001b[38;5;34m512\u001b[0m)            │             \u001b[38;5;34m0\u001b[0m │\n",
       "├─────────────────────────────────┼────────────────────────┼───────────────┤\n",
       "│ dense_1 (\u001b[38;5;33mDense\u001b[0m)                 │ (\u001b[38;5;45mNone\u001b[0m, \u001b[38;5;34m256\u001b[0m)            │       \u001b[38;5;34m131,328\u001b[0m │\n",
       "├─────────────────────────────────┼────────────────────────┼───────────────┤\n",
       "│ dropout_1 (\u001b[38;5;33mDropout\u001b[0m)             │ (\u001b[38;5;45mNone\u001b[0m, \u001b[38;5;34m256\u001b[0m)            │             \u001b[38;5;34m0\u001b[0m │\n",
       "├─────────────────────────────────┼────────────────────────┼───────────────┤\n",
       "│ dense_2 (\u001b[38;5;33mDense\u001b[0m)                 │ (\u001b[38;5;45mNone\u001b[0m, \u001b[38;5;34m128\u001b[0m)            │        \u001b[38;5;34m32,896\u001b[0m │\n",
       "├─────────────────────────────────┼────────────────────────┼───────────────┤\n",
       "│ dropout_2 (\u001b[38;5;33mDropout\u001b[0m)             │ (\u001b[38;5;45mNone\u001b[0m, \u001b[38;5;34m128\u001b[0m)            │             \u001b[38;5;34m0\u001b[0m │\n",
       "├─────────────────────────────────┼────────────────────────┼───────────────┤\n",
       "│ dense_3 (\u001b[38;5;33mDense\u001b[0m)                 │ (\u001b[38;5;45mNone\u001b[0m, \u001b[38;5;34m37\u001b[0m)             │         \u001b[38;5;34m4,773\u001b[0m │\n",
       "└─────────────────────────────────┴────────────────────────┴───────────────┘\n"
      ]
     },
     "metadata": {},
     "output_type": "display_data"
    },
    {
     "data": {
      "text/html": [
       "<pre style=\"white-space:pre;overflow-x:auto;line-height:normal;font-family:Menlo,'DejaVu Sans Mono',consolas,'Courier New',monospace\"><span style=\"font-weight: bold\"> Total params: </span><span style=\"color: #00af00; text-decoration-color: #00af00\">2,176,549</span> (8.30 MB)\n",
       "</pre>\n"
      ],
      "text/plain": [
       "\u001b[1m Total params: \u001b[0m\u001b[38;5;34m2,176,549\u001b[0m (8.30 MB)\n"
      ]
     },
     "metadata": {},
     "output_type": "display_data"
    },
    {
     "data": {
      "text/html": [
       "<pre style=\"white-space:pre;overflow-x:auto;line-height:normal;font-family:Menlo,'DejaVu Sans Mono',consolas,'Courier New',monospace\"><span style=\"font-weight: bold\"> Trainable params: </span><span style=\"color: #00af00; text-decoration-color: #00af00\">2,176,549</span> (8.30 MB)\n",
       "</pre>\n"
      ],
      "text/plain": [
       "\u001b[1m Trainable params: \u001b[0m\u001b[38;5;34m2,176,549\u001b[0m (8.30 MB)\n"
      ]
     },
     "metadata": {},
     "output_type": "display_data"
    },
    {
     "data": {
      "text/html": [
       "<pre style=\"white-space:pre;overflow-x:auto;line-height:normal;font-family:Menlo,'DejaVu Sans Mono',consolas,'Courier New',monospace\"><span style=\"font-weight: bold\"> Non-trainable params: </span><span style=\"color: #00af00; text-decoration-color: #00af00\">0</span> (0.00 B)\n",
       "</pre>\n"
      ],
      "text/plain": [
       "\u001b[1m Non-trainable params: \u001b[0m\u001b[38;5;34m0\u001b[0m (0.00 B)\n"
      ]
     },
     "metadata": {},
     "output_type": "display_data"
    }
   ],
   "source": [
    "model.summary()"
   ]
  },
  {
   "cell_type": "markdown",
   "id": "b7ad1846",
   "metadata": {},
   "source": [
    "<h1> Training the CNN on MFCC features </h1>\n",
    "<p> And saving it to an .keras file so we can use it later. I will include some plots at the bottom to see how the training went. </p>"
   ]
  },
  {
   "cell_type": "code",
   "execution_count": 10,
   "id": "9901bc37-0ede-49b0-bdfd-04dcaa5e040e",
   "metadata": {
    "tags": []
   },
   "outputs": [
    {
     "name": "stdout",
     "output_type": "stream",
     "text": [
      "Epoch 1/50\n",
      "\u001b[1m287/287\u001b[0m \u001b[32m━━━━━━━━━━━━━━━━━━━━\u001b[0m\u001b[37m\u001b[0m \u001b[1m3s\u001b[0m 7ms/step - accuracy: 0.4476 - loss: 2.0798 - val_accuracy: 0.5491 - val_loss: 1.6330 - learning_rate: 5.0000e-04\n",
      "Epoch 2/50\n",
      "\u001b[1m287/287\u001b[0m \u001b[32m━━━━━━━━━━━━━━━━━━━━\u001b[0m\u001b[37m\u001b[0m \u001b[1m2s\u001b[0m 7ms/step - accuracy: 0.5528 - loss: 1.6557 - val_accuracy: 0.5940 - val_loss: 1.4576 - learning_rate: 5.0000e-04\n",
      "Epoch 3/50\n",
      "\u001b[1m287/287\u001b[0m \u001b[32m━━━━━━━━━━━━━━━━━━━━\u001b[0m\u001b[37m\u001b[0m \u001b[1m2s\u001b[0m 6ms/step - accuracy: 0.5836 - loss: 1.5170 - val_accuracy: 0.6101 - val_loss: 1.3783 - learning_rate: 5.0000e-04\n",
      "Epoch 4/50\n",
      "\u001b[1m287/287\u001b[0m \u001b[32m━━━━━━━━━━━━━━━━━━━━\u001b[0m\u001b[37m\u001b[0m \u001b[1m2s\u001b[0m 6ms/step - accuracy: 0.6072 - loss: 1.4134 - val_accuracy: 0.6311 - val_loss: 1.2867 - learning_rate: 5.0000e-04\n",
      "Epoch 5/50\n",
      "\u001b[1m287/287\u001b[0m \u001b[32m━━━━━━━━━━━━━━━━━━━━\u001b[0m\u001b[37m\u001b[0m \u001b[1m2s\u001b[0m 7ms/step - accuracy: 0.6261 - loss: 1.3345 - val_accuracy: 0.6280 - val_loss: 1.2944 - learning_rate: 5.0000e-04\n",
      "Epoch 6/50\n",
      "\u001b[1m287/287\u001b[0m \u001b[32m━━━━━━━━━━━━━━━━━━━━\u001b[0m\u001b[37m\u001b[0m \u001b[1m2s\u001b[0m 6ms/step - accuracy: 0.6348 - loss: 1.2745 - val_accuracy: 0.6450 - val_loss: 1.2319 - learning_rate: 5.0000e-04\n",
      "Epoch 7/50\n",
      "\u001b[1m287/287\u001b[0m \u001b[32m━━━━━━━━━━━━━━━━━━━━\u001b[0m\u001b[37m\u001b[0m \u001b[1m2s\u001b[0m 7ms/step - accuracy: 0.6493 - loss: 1.2296 - val_accuracy: 0.6555 - val_loss: 1.1889 - learning_rate: 5.0000e-04\n",
      "Epoch 8/50\n",
      "\u001b[1m287/287\u001b[0m \u001b[32m━━━━━━━━━━━━━━━━━━━━\u001b[0m\u001b[37m\u001b[0m \u001b[1m2s\u001b[0m 6ms/step - accuracy: 0.6613 - loss: 1.1705 - val_accuracy: 0.6568 - val_loss: 1.1791 - learning_rate: 5.0000e-04\n",
      "Epoch 9/50\n",
      "\u001b[1m287/287\u001b[0m \u001b[32m━━━━━━━━━━━━━━━━━━━━\u001b[0m\u001b[37m\u001b[0m \u001b[1m2s\u001b[0m 6ms/step - accuracy: 0.6677 - loss: 1.1176 - val_accuracy: 0.6677 - val_loss: 1.1638 - learning_rate: 5.0000e-04\n",
      "Epoch 10/50\n",
      "\u001b[1m287/287\u001b[0m \u001b[32m━━━━━━━━━━━━━━━━━━━━\u001b[0m\u001b[37m\u001b[0m \u001b[1m3s\u001b[0m 9ms/step - accuracy: 0.6819 - loss: 1.0788 - val_accuracy: 0.6633 - val_loss: 1.1614 - learning_rate: 5.0000e-04\n",
      "Epoch 11/50\n",
      "\u001b[1m287/287\u001b[0m \u001b[32m━━━━━━━━━━━━━━━━━━━━\u001b[0m\u001b[37m\u001b[0m \u001b[1m3s\u001b[0m 12ms/step - accuracy: 0.6894 - loss: 1.0439 - val_accuracy: 0.6829 - val_loss: 1.1304 - learning_rate: 5.0000e-04\n",
      "Epoch 12/50\n",
      "\u001b[1m287/287\u001b[0m \u001b[32m━━━━━━━━━━━━━━━━━━━━\u001b[0m\u001b[37m\u001b[0m \u001b[1m4s\u001b[0m 13ms/step - accuracy: 0.7024 - loss: 0.9996 - val_accuracy: 0.6864 - val_loss: 1.1213 - learning_rate: 5.0000e-04\n",
      "Epoch 13/50\n",
      "\u001b[1m287/287\u001b[0m \u001b[32m━━━━━━━━━━━━━━━━━━━━\u001b[0m\u001b[37m\u001b[0m \u001b[1m4s\u001b[0m 13ms/step - accuracy: 0.7108 - loss: 0.9646 - val_accuracy: 0.6825 - val_loss: 1.1420 - learning_rate: 5.0000e-04\n",
      "Epoch 14/50\n",
      "\u001b[1m287/287\u001b[0m \u001b[32m━━━━━━━━━━━━━━━━━━━━\u001b[0m\u001b[37m\u001b[0m \u001b[1m3s\u001b[0m 12ms/step - accuracy: 0.7266 - loss: 0.9496 - val_accuracy: 0.6851 - val_loss: 1.1275 - learning_rate: 5.0000e-04\n",
      "Epoch 15/50\n",
      "\u001b[1m287/287\u001b[0m \u001b[32m━━━━━━━━━━━━━━━━━━━━\u001b[0m\u001b[37m\u001b[0m \u001b[1m3s\u001b[0m 12ms/step - accuracy: 0.7282 - loss: 0.9063 - val_accuracy: 0.6873 - val_loss: 1.1136 - learning_rate: 5.0000e-04\n",
      "Epoch 16/50\n",
      "\u001b[1m287/287\u001b[0m \u001b[32m━━━━━━━━━━━━━━━━━━━━\u001b[0m\u001b[37m\u001b[0m \u001b[1m3s\u001b[0m 11ms/step - accuracy: 0.7356 - loss: 0.8700 - val_accuracy: 0.6751 - val_loss: 1.1422 - learning_rate: 5.0000e-04\n",
      "Epoch 17/50\n",
      "\u001b[1m287/287\u001b[0m \u001b[32m━━━━━━━━━━━━━━━━━━━━\u001b[0m\u001b[37m\u001b[0m \u001b[1m3s\u001b[0m 11ms/step - accuracy: 0.7423 - loss: 0.8409 - val_accuracy: 0.6969 - val_loss: 1.1060 - learning_rate: 5.0000e-04\n",
      "Epoch 18/50\n",
      "\u001b[1m287/287\u001b[0m \u001b[32m━━━━━━━━━━━━━━━━━━━━\u001b[0m\u001b[37m\u001b[0m \u001b[1m3s\u001b[0m 10ms/step - accuracy: 0.7463 - loss: 0.8319 - val_accuracy: 0.6947 - val_loss: 1.1414 - learning_rate: 5.0000e-04\n",
      "Epoch 19/50\n",
      "\u001b[1m287/287\u001b[0m \u001b[32m━━━━━━━━━━━━━━━━━━━━\u001b[0m\u001b[37m\u001b[0m \u001b[1m3s\u001b[0m 11ms/step - accuracy: 0.7625 - loss: 0.7890 - val_accuracy: 0.7004 - val_loss: 1.1166 - learning_rate: 5.0000e-04\n",
      "Epoch 20/50\n",
      "\u001b[1m286/287\u001b[0m \u001b[32m━━━━━━━━━━━━━━━━━━━\u001b[0m\u001b[37m━\u001b[0m \u001b[1m0s\u001b[0m 9ms/step - accuracy: 0.7786 - loss: 0.7460\n",
      "Epoch 20: ReduceLROnPlateau reducing learning rate to 0.0002500000118743628.\n",
      "\u001b[1m287/287\u001b[0m \u001b[32m━━━━━━━━━━━━━━━━━━━━\u001b[0m\u001b[37m\u001b[0m \u001b[1m3s\u001b[0m 10ms/step - accuracy: 0.7696 - loss: 0.7620 - val_accuracy: 0.6930 - val_loss: 1.1599 - learning_rate: 5.0000e-04\n",
      "Epoch 21/50\n",
      "\u001b[1m287/287\u001b[0m \u001b[32m━━━━━━━━━━━━━━━━━━━━\u001b[0m\u001b[37m\u001b[0m \u001b[1m3s\u001b[0m 10ms/step - accuracy: 0.7877 - loss: 0.7020 - val_accuracy: 0.7013 - val_loss: 1.1246 - learning_rate: 2.5000e-04\n",
      "Epoch 22/50\n",
      "\u001b[1m287/287\u001b[0m \u001b[32m━━━━━━━━━━━━━━━━━━━━\u001b[0m\u001b[37m\u001b[0m \u001b[1m3s\u001b[0m 10ms/step - accuracy: 0.7951 - loss: 0.6601 - val_accuracy: 0.7100 - val_loss: 1.1296 - learning_rate: 2.5000e-04\n",
      "✅ Model saved to /Users/Gilby/Projects/MLAudioClassifier/models/model1.keras\n",
      "✅ History saved to /Users/Gilby/Projects/MLAudioClassifier/models/model1_history.json\n"
     ]
    }
   ],
   "source": [
    "from keras.callbacks import EarlyStopping, ReduceLROnPlateau\n",
    "\n",
    "callbacks = [\n",
    "    EarlyStopping(monitor='val_loss', patience=5, restore_best_weights=True),\n",
    "    ReduceLROnPlateau(monitor='val_loss', factor=0.5, patience=3, verbose=1)\n",
    "]\n",
    "\n",
    "history = model.fit(\n",
    "    X_train, y_train,\n",
    "    validation_data=(X_val, y_val),\n",
    "    batch_size=32,\n",
    "    epochs=50,\n",
    "    callbacks=callbacks,\n",
    "    verbose=1\n",
    ")\n",
    "\n",
    "# ---- Fixed save section (avoid read-only root path) ----\n",
    "import json\n",
    "save_dir = os.path.join(filepath, 'models')\n",
    "os.makedirs(save_dir, exist_ok=True)\n",
    "\n",
    "model_path = os.path.join(save_dir, 'model1.keras')\n",
    "history_path = os.path.join(save_dir, 'model1_history.json')\n",
    "\n",
    "model.save(model_path)\n",
    "\n",
    "# Save training history\n",
    "with open(history_path, 'w') as f:\n",
    "    json.dump({k: [float(vv) for vv in vals] for k, vals in history.history.items()}, f, indent=2)\n",
    "\n",
    "print(f\"✅ Model saved to {model_path}\")\n",
    "print(f\"✅ History saved to {history_path}\")"
   ]
  },
  {
   "cell_type": "code",
   "execution_count": 11,
   "id": "4e27c8ad-66ba-43ad-b3e9-0b458c5cce16",
   "metadata": {},
   "outputs": [
    {
     "name": "stdout",
     "output_type": "stream",
     "text": [
      "dict_keys(['accuracy', 'loss', 'val_accuracy', 'val_loss', 'learning_rate'])\n"
     ]
    },
    {
     "data": {
      "image/png": "[encoded data removed]",
      "text/plain": [
       "<Figure size 800x400 with 1 Axes>"
      ]
     },
     "metadata": {},
     "output_type": "display_data"
    },
    {
     "data": {
      "image/png": "[encoded data removed]",
      "text/plain": [
       "<Figure size 800x400 with 1 Axes>"
      ]
     },
     "metadata": {},
     "output_type": "display_data"
    },
    {
     "name": "stdout",
     "output_type": "stream",
     "text": [
      "✅ Plots saved to /Users/Gilby/Projects/MLAudioClassifier/results\n"
     ]
    }
   ],
   "source": [
    "print(history.history.keys())\n",
    "# summarize history for accuracy\n",
    "plt.figure(figsize=(8,4))\n",
    "plt.plot(history.history['accuracy'])\n",
    "plt.plot(history.history['val_accuracy'])\n",
    "plt.title('model 1 accuracy')\n",
    "plt.ylabel('accuracy')\n",
    "plt.xlabel('epoch')\n",
    "plt.legend(['train', 'val'], loc='lower right')\n",
    "# Use project-local results directory instead of root (read-only) path\n",
    "results_dir = os.path.join(filepath, 'results')\n",
    "os.makedirs(results_dir, exist_ok=True)\n",
    "plt.savefig(os.path.join(results_dir, 'accuracy.png'), dpi=120, bbox_inches='tight')\n",
    "plt.show()\n",
    "# summarize history for loss\n",
    "plt.figure(figsize=(8,4))\n",
    "plt.plot(history.history['loss'])\n",
    "plt.plot(history.history['val_loss'])\n",
    "plt.title('model 1 loss')\n",
    "plt.ylabel('loss')\n",
    "plt.xlabel('epoch')\n",
    "plt.legend(['train', 'val'], loc='upper right')\n",
    "plt.savefig(os.path.join(results_dir, 'loss.png'), dpi=120, bbox_inches='tight')\n",
    "plt.show()\n",
    "\n",
    "print(f\"✅ Plots saved to {results_dir}\")"
   ]
  }
 ],
 "metadata": {
  "kernelspec": {
   "display_name": ".venv",
   "language": "python",
   "name": "python3"
  },
  "language_info": {
   "codemirror_mode": {
    "name": "ipython",
    "version": 3
   },
   "file_extension": ".py",
   "mimetype": "text/x-python",
   "name": "python",
   "nbconvert_exporter": "python",
   "pygments_lexer": "ipython3",
   "version": "3.13.7"
  }
 },
 "nbformat": 4,
 "nbformat_minor": 5
}
